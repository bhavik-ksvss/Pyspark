{
 "cells": [
  {
   "cell_type": "code",
   "execution_count": 2,
   "metadata": {
    "id": "zJ2p8rFS4kGb"
   },
   "outputs": [],
   "source": [
    "# innstall java\n",
    "!apt-get install openjdk-8-jdk-headless -qq > /dev/null\n",
    "\n",
    "# install spark (change the version number if needed)\n",
    "!wget -q https://archive.apache.org/dist/spark/spark-3.0.0/spark-3.0.0-bin-hadoop3.2.tgz\n",
    "\n",
    "# unzip the spark file to the current folder\n",
    "!tar xf spark-3.0.0-bin-hadoop3.2.tgz\n",
    "\n",
    "# set your spark folder to your system path environment.\n",
    "import os\n",
    "os.environ[\"JAVA_HOME\"] = \"/usr/lib/jvm/java-8-openjdk-amd64\"\n",
    "os.environ[\"SPARK_HOME\"] = \"/content/spark-3.0.0-bin-hadoop3.2\"\n",
    "\n",
    "\n",
    "# install findspark using pip\n",
    "!pip install -q findspark"
   ]
  },
  {
   "cell_type": "code",
   "execution_count": 3,
   "metadata": {
    "id": "9PSNq3wI3qx1"
   },
   "outputs": [],
   "source": [
    "import findspark\n",
    "findspark.init()\n",
    "import pyspark\n",
    "from pyspark import SparkContext, SparkConf\n",
    "from pyspark.sql import SparkSession\n",
    "import warnings\n",
    "warnings.filterwarnings(\"ignore\")\n",
    "from pyspark.sql.functions import count, desc, max,col, countDistinct\n",
    "import os"
   ]
  },
  {
   "cell_type": "code",
   "execution_count": 4,
   "metadata": {
    "id": "Hwkh6WTF4b42"
   },
   "outputs": [],
   "source": [
    "conf = SparkConf().setAppName(\"Assignment-4\")\n",
    "sc = SparkContext(conf=conf)\n",
    "spark = SparkSession(sc)"
   ]
  },
  {
   "cell_type": "code",
   "execution_count": 5,
   "metadata": {
    "id": "-gL08zza5Ig8"
   },
   "outputs": [],
   "source": [
    "# import the data into spark df\n",
    "people = spark.read.csv('/content/Fake_data.csv',header=True)"
   ]
  },
  {
   "cell_type": "code",
   "execution_count": 6,
   "metadata": {
    "id": "TBod8-U05VBB"
   },
   "outputs": [],
   "source": [
    "# Cast the income to double\n",
    "people = people.withColumn(\"Income\",col(\"Income\").cast('double')).withColumn(\"Loan_Approved\",col(\"Loan_Approved\").cast('boolean'))"
   ]
  },
  {
   "cell_type": "code",
   "execution_count": 31,
   "metadata": {
    "colab": {
     "base_uri": "https://localhost:8080/"
    },
    "id": "Gd9mb4Fg5aTA",
    "outputId": "7e16224c-2a36-4a41-f8ef-f86c3658bf21"
   },
   "outputs": [
    {
     "name": "stdout",
     "output_type": "stream",
     "text": [
      "+---+--------------------+--------------------+----------+--------+--------------------+---------+-------------+-----------+\n",
      "|_c0|       Birth_Country|               Email|First_Name|  Income|                 Job|Last_name|Loan_Approved|        SSN|\n",
      "+---+--------------------+--------------------+----------+--------+--------------------+---------+-------------+-----------+\n",
      "|  0|Bosnia and Herzeg...|emily15@whitehead...|   Melissa|109957.0|Telecommunication...|  Miranda|        false|129-41-7773|\n",
      "|  1|             Belgium|  ronald87@yahoo.com|    Curtis|301884.0| Animal nutritionist|  Garrett|         true|212-74-3976|\n",
      "|  2|      United Kingdom|  hannah29@gmail.com|    Connor|341584.0|English as a fore...|   Steele|        false|024-35-3834|\n",
      "|  3|            Kiribati|derrick59@hotmail...|      Adam|448293.0|Surveyor, commerc...|   Newman|        false|157-82-4486|\n",
      "|  4|            Malaysia|wendycarpenter@wa...|     Jared| 53621.0|   Drilling engineer|     Mann|         true|199-56-2824|\n",
      "|  5|             Austria|hcisneros@hotmail...|   Stephen|195746.0|Commercial/reside...|    Smith|        false|856-86-2689|\n",
      "|  6|              Cyprus|cookdawn@harringt...|Alexandria|121200.0|   Designer, graphic|    Berry|         true|526-65-0200|\n",
      "|  7|                Cuba|robertrodriguez@g...|   Natasha| 68126.0|Chief Strategy Of...|     Kemp|         true|246-26-3710|\n",
      "|  8|      Western Sahara|lfreeman@cervante...|     James|199588.0|Engineer, mainten...|   Taylor|         true|868-13-4858|\n",
      "|  9|               Sudan| bryan65@booker.info|    Briana| 77960.0|Psychotherapist, ...|  Swanson|         true|102-09-9465|\n",
      "| 10|             Armenia|jennifer24@lynch-...| Alexandra| 75778.0|      Water engineer|    Simon|        false|217-96-3391|\n",
      "| 11|        Turkmenistan| pwilliams@gmail.com|    Angela|411687.0|Occupational psyc...|   Abbott|        false|638-49-9216|\n",
      "| 12|          Costa Rica|  xflores@carter.biz|    Robert|141750.0|Control and instr...|    House|         true|639-07-5705|\n",
      "| 13|             Albania|amberphillips@hot...|     Holly|344920.0|Maintenance engineer|   Hodges|        false|144-88-5955|\n",
      "| 14|           Nicaragua| swerner@randall.com|     David| 95188.0|Research officer,...|      Fox|         true|783-99-1364|\n",
      "| 15|United States Vir...| uanderson@leach.net|    Calvin|333718.0|     Arboriculturist|  Hopkins|        false|771-16-4394|\n",
      "| 16|Falkland Islands ...|    imccoy@gmail.com|     James|404292.0|    Doctor, hospital|    Payne|         true|026-73-1259|\n",
      "| 17|               Aruba|josephdavis@duart...|   Zachary|366990.0|Rural practice su...|  Stanley|        false|488-61-6413|\n",
      "| 18|               Kenya|    kboyle@yahoo.com|    Martha|364873.0|Designer, ceramic...|   Taylor|         true|702-67-7925|\n",
      "| 19|      Norfolk Island|    xjones@yahoo.com|     Dylan|479768.0|Engineer, mainten...|      Lee|        false|548-15-3563|\n",
      "+---+--------------------+--------------------+----------+--------+--------------------+---------+-------------+-----------+\n",
      "only showing top 20 rows\n",
      "\n"
     ]
    }
   ],
   "source": [
    "people.show()"
   ]
  },
  {
   "cell_type": "code",
   "execution_count": 8,
   "metadata": {
    "id": "FfX-cQnB5lvu"
   },
   "outputs": [],
   "source": [
    "# Creating spark temp view\n",
    "people.createOrReplaceTempView(\"people_tbl\")"
   ]
  },
  {
   "cell_type": "code",
   "execution_count": 9,
   "metadata": {
    "colab": {
     "base_uri": "https://localhost:8080/"
    },
    "id": "kQfOAe335wpL",
    "outputId": "02708854-7e76-4d6d-be34-a8425e6457cd"
   },
   "outputs": [
    {
     "name": "stdout",
     "output_type": "stream",
     "text": [
      "root\n",
      " |-- _c0: string (nullable = true)\n",
      " |-- Birth_Country: string (nullable = true)\n",
      " |-- Email: string (nullable = true)\n",
      " |-- First_Name: string (nullable = true)\n",
      " |-- Income: double (nullable = true)\n",
      " |-- Job: string (nullable = true)\n",
      " |-- Last_name: string (nullable = true)\n",
      " |-- Loan_Approved: boolean (nullable = true)\n",
      " |-- SSN: string (nullable = true)\n",
      "\n"
     ]
    }
   ],
   "source": [
    "people.printSchema()"
   ]
  },
  {
   "cell_type": "markdown",
   "metadata": {
    "id": "FsG1RAZk59pb"
   },
   "source": [
    "### Part 1"
   ]
  },
  {
   "cell_type": "code",
   "execution_count": 10,
   "metadata": {
    "colab": {
     "base_uri": "https://localhost:8080/"
    },
    "id": "vu-Rvfj35yed",
    "outputId": "fd1fa46c-fa78-4ccf-eab5-0759e0a20f5a"
   },
   "outputs": [
    {
     "data": {
      "text/plain": [
       "Row(Birth_Country='Korea', people_Count=91)"
      ]
     },
     "execution_count": 10,
     "metadata": {},
     "output_type": "execute_result"
    }
   ],
   "source": [
    "people.groupBy('Birth_Country').agg(count('*').alias('people_Count')).orderBy(desc('people_Count')).head()"
   ]
  },
  {
   "cell_type": "code",
   "execution_count": 11,
   "metadata": {
    "colab": {
     "base_uri": "https://localhost:8080/"
    },
    "id": "922VFedj6YyM",
    "outputId": "3a2cf3d1-e70c-4cb4-8db6-5966dd5e3574"
   },
   "outputs": [
    {
     "name": "stdout",
     "output_type": "stream",
     "text": [
      "+-------------+------------+\n",
      "|Birth_Country|people_Count|\n",
      "+-------------+------------+\n",
      "|        Korea|          91|\n",
      "+-------------+------------+\n",
      "\n"
     ]
    }
   ],
   "source": [
    "spark.sql(\"SELECT Birth_Country, count(*) as people_Count FROM people_tbl group by 1 order by 2 desc limit 1\").show()"
   ]
  },
  {
   "cell_type": "markdown",
   "metadata": {
    "id": "hhAMfQqr6foB"
   },
   "source": [
    "**Korea is the birth country which has maximum number of people.**"
   ]
  },
  {
   "cell_type": "markdown",
   "metadata": {
    "id": "Zkj6gGjm5_p0"
   },
   "source": [
    "### Part 2"
   ]
  },
  {
   "cell_type": "code",
   "execution_count": 12,
   "metadata": {
    "colab": {
     "base_uri": "https://localhost:8080/"
    },
    "id": "AvwkH6HF55mE",
    "outputId": "cd929805-e7a7-4205-ac59-690d16c417f8"
   },
   "outputs": [
    {
     "name": "stdout",
     "output_type": "stream",
     "text": [
      "+---------------------------------------------------+----------+\n",
      "|Birth_Country                                      |Max_Income|\n",
      "+---------------------------------------------------+----------+\n",
      "|Cook Islands                                       |499913.0  |\n",
      "|Uzbekistan                                         |499720.0  |\n",
      "|Greenland                                          |499690.0  |\n",
      "|Cuba                                               |499636.0  |\n",
      "|Albania                                            |499562.0  |\n",
      "|Mauritania                                         |499558.0  |\n",
      "|Oman                                               |499521.0  |\n",
      "|Togo                                               |499370.0  |\n",
      "|Somalia                                            |499294.0  |\n",
      "|San Marino                                         |499238.0  |\n",
      "|Finland                                            |499207.0  |\n",
      "|Belgium                                            |499095.0  |\n",
      "|Peru                                               |499092.0  |\n",
      "|Bermuda                                            |499090.0  |\n",
      "|Italy                                              |498991.0  |\n",
      "|Macedonia                                          |498973.0  |\n",
      "|United Arab Emirates                               |498960.0  |\n",
      "|Turks and Caicos Islands                           |498757.0  |\n",
      "|Taiwan                                             |498746.0  |\n",
      "|Myanmar                                            |498739.0  |\n",
      "|Australia                                          |498604.0  |\n",
      "|French Guiana                                      |498559.0  |\n",
      "|Fiji                                               |498479.0  |\n",
      "|American Samoa                                     |498454.0  |\n",
      "|Paraguay                                           |498440.0  |\n",
      "|South Africa                                       |498297.0  |\n",
      "|Swaziland                                          |498274.0  |\n",
      "|Namibia                                            |498187.0  |\n",
      "|Serbia                                             |498171.0  |\n",
      "|Congo                                              |498121.0  |\n",
      "|Marshall Islands                                   |498106.0  |\n",
      "|Christmas Island                                   |498097.0  |\n",
      "|Seychelles                                         |497855.0  |\n",
      "|United States Virgin Islands                       |497753.0  |\n",
      "|Guyana                                             |497595.0  |\n",
      "|Vanuatu                                            |497580.0  |\n",
      "|Tokelau                                            |497573.0  |\n",
      "|Saint Barthelemy                                   |497523.0  |\n",
      "|Solomon Islands                                    |497522.0  |\n",
      "|Palau                                              |497491.0  |\n",
      "|Argentina                                          |497489.0  |\n",
      "|Kuwait                                             |497352.0  |\n",
      "|Honduras                                           |497344.0  |\n",
      "|Bouvet Island (Bouvetoya)                          |497240.0  |\n",
      "|Haiti                                              |497204.0  |\n",
      "|Dominica                                           |497143.0  |\n",
      "|Brazil                                             |496995.0  |\n",
      "|British Virgin Islands                             |496863.0  |\n",
      "|Tajikistan                                         |496774.0  |\n",
      "|Gibraltar                                          |496748.0  |\n",
      "|Cocos (Keeling) Islands                            |496726.0  |\n",
      "|Cape Verde                                         |496724.0  |\n",
      "|Uruguay                                            |496698.0  |\n",
      "|Antarctica (the territory South of 60 deg S)       |496690.0  |\n",
      "|Macao                                              |496558.0  |\n",
      "|Malta                                              |496548.0  |\n",
      "|Lebanon                                            |496547.0  |\n",
      "|Ethiopia                                           |496492.0  |\n",
      "|Slovenia                                           |496420.0  |\n",
      "|Sweden                                             |496349.0  |\n",
      "|Cameroon                                           |496329.0  |\n",
      "|Kiribati                                           |496146.0  |\n",
      "|Ireland                                            |495813.0  |\n",
      "|Mayotte                                            |495757.0  |\n",
      "|Portugal                                           |495749.0  |\n",
      "|Norfolk Island                                     |495736.0  |\n",
      "|China                                              |495668.0  |\n",
      "|Canada                                             |495667.0  |\n",
      "|Mali                                               |495627.0  |\n",
      "|French Polynesia                                   |495562.0  |\n",
      "|Gabon                                              |495470.0  |\n",
      "|Philippines                                        |495358.0  |\n",
      "|Burkina Faso                                       |495342.0  |\n",
      "|Hungary                                            |495282.0  |\n",
      "|Netherlands                                        |494783.0  |\n",
      "|Bhutan                                             |494718.0  |\n",
      "|Indonesia                                          |494666.0  |\n",
      "|Dominican Republic                                 |494613.0  |\n",
      "|Vietnam                                            |494403.0  |\n",
      "|Luxembourg                                         |494271.0  |\n",
      "|Belarus                                            |494263.0  |\n",
      "|Zambia                                             |494198.0  |\n",
      "|Puerto Rico                                        |494169.0  |\n",
      "|Korea                                              |494133.0  |\n",
      "|Saint Helena                                       |493730.0  |\n",
      "|Jersey                                             |493714.0  |\n",
      "|Romania                                            |493627.0  |\n",
      "|Samoa                                              |493545.0  |\n",
      "|Tonga                                              |493516.0  |\n",
      "|Antigua and Barbuda                                |493390.0  |\n",
      "|Armenia                                            |493371.0  |\n",
      "|Guam                                               |493249.0  |\n",
      "|Colombia                                           |493199.0  |\n",
      "|Malaysia                                           |493159.0  |\n",
      "|Central African Republic                           |493085.0  |\n",
      "|Liechtenstein                                      |492938.0  |\n",
      "|Anguilla                                           |492905.0  |\n",
      "|Russian Federation                                 |492762.0  |\n",
      "|Guadeloupe                                         |492441.0  |\n",
      "|Montserrat                                         |492374.0  |\n",
      "|Barbados                                           |492312.0  |\n",
      "|Mexico                                             |492189.0  |\n",
      "|France                                             |492178.0  |\n",
      "|Singapore                                          |491842.0  |\n",
      "|Azerbaijan                                         |491829.0  |\n",
      "|Yemen                                              |491828.0  |\n",
      "|Suriname                                           |491763.0  |\n",
      "|Saint Vincent and the Grenadines                   |491725.0  |\n",
      "|Cyprus                                             |491641.0  |\n",
      "|Svalbard & Jan Mayen Islands                       |491633.0  |\n",
      "|Moldova                                            |491471.0  |\n",
      "|Jamaica                                            |491453.0  |\n",
      "|Cayman Islands                                     |491063.0  |\n",
      "|Grenada                                            |491016.0  |\n",
      "|Lesotho                                            |490995.0  |\n",
      "|Uganda                                             |490928.0  |\n",
      "|Germany                                            |490762.0  |\n",
      "|Martinique                                         |490739.0  |\n",
      "|Palestinian Territory                              |490689.0  |\n",
      "|Tuvalu                                             |490653.0  |\n",
      "|Czech Republic                                     |490522.0  |\n",
      "|Niger                                              |490257.0  |\n",
      "|Brunei Darussalam                                  |489937.0  |\n",
      "|Thailand                                           |489340.0  |\n",
      "|Burundi                                            |489123.0  |\n",
      "|Ghana                                              |488832.0  |\n",
      "|Greece                                             |488772.0  |\n",
      "|Hong Kong                                          |488762.0  |\n",
      "|Guinea                                             |488650.0  |\n",
      "|Guatemala                                          |488325.0  |\n",
      "|Croatia                                            |488057.0  |\n",
      "|Monaco                                             |488026.0  |\n",
      "|Algeria                                            |487443.0  |\n",
      "|Japan                                              |487422.0  |\n",
      "|Afghanistan                                        |487361.0  |\n",
      "|Qatar                                              |487296.0  |\n",
      "|Netherlands Antilles                               |487034.0  |\n",
      "|Western Sahara                                     |487009.0  |\n",
      "|Sierra Leone                                       |486923.0  |\n",
      "|Niue                                               |486883.0  |\n",
      "|Lao People's Democratic Republic                   |486761.0  |\n",
      "|Estonia                                            |486346.0  |\n",
      "|Equatorial Guinea                                  |486115.0  |\n",
      "|Tanzania                                           |485935.0  |\n",
      "|Northern Mariana Islands                           |485781.0  |\n",
      "|Slovakia (Slovak Republic)                         |485728.0  |\n",
      "|Bolivia                                            |485727.0  |\n",
      "|Spain                                              |485648.0  |\n",
      "|Eritrea                                            |485360.0  |\n",
      "|Mozambique                                         |485224.0  |\n",
      "|Bosnia and Herzegovina                             |485026.0  |\n",
      "|Mauritius                                          |484922.0  |\n",
      "|Papua New Guinea                                   |484669.0  |\n",
      "|Saint Kitts and Nevis                              |484659.0  |\n",
      "|Nauru                                              |484552.0  |\n",
      "|Kenya                                              |484365.0  |\n",
      "|Georgia                                            |484206.0  |\n",
      "|Sudan                                              |484085.0  |\n",
      "|Benin                                              |483980.0  |\n",
      "|Switzerland                                        |483968.0  |\n",
      "|Liberia                                            |483540.0  |\n",
      "|Cambodia                                           |483479.0  |\n",
      "|Kyrgyz Republic                                    |483152.0  |\n",
      "|Pakistan                                           |482964.0  |\n",
      "|United States of America                           |482588.0  |\n",
      "|Iceland                                            |482579.0  |\n",
      "|Tunisia                                            |482464.0  |\n",
      "|United States Minor Outlying Islands               |482409.0  |\n",
      "|Wallis and Futuna                                  |482297.0  |\n",
      "|Austria                                            |481945.0  |\n",
      "|Ukraine                                            |481906.0  |\n",
      "|Chad                                               |481521.0  |\n",
      "|Mongolia                                           |481513.0  |\n",
      "|Ecuador                                            |481446.0  |\n",
      "|Rwanda                                             |481397.0  |\n",
      "|Nigeria                                            |480959.0  |\n",
      "|Reunion                                            |480343.0  |\n",
      "|Turkey                                             |479896.0  |\n",
      "|Jordan                                             |479868.0  |\n",
      "|Latvia                                             |479761.0  |\n",
      "|Saint Pierre and Miquelon                          |479756.0  |\n",
      "|Malawi                                             |479700.0  |\n",
      "|Israel                                             |479494.0  |\n",
      "|Sri Lanka                                          |478998.0  |\n",
      "|Faroe Islands                                      |478706.0  |\n",
      "|Nepal                                              |478262.0  |\n",
      "|Falkland Islands (Malvinas)                        |477917.0  |\n",
      "|Micronesia                                         |477894.0  |\n",
      "|Aruba                                              |477834.0  |\n",
      "|Angola                                             |477436.0  |\n",
      "|Morocco                                            |477362.0  |\n",
      "|Iran                                               |477223.0  |\n",
      "|Poland                                             |477203.0  |\n",
      "|Bulgaria                                           |477141.0  |\n",
      "|Belize                                             |476669.0  |\n",
      "|Madagascar                                         |475842.0  |\n",
      "|Zimbabwe                                           |475803.0  |\n",
      "|Andorra                                            |475695.0  |\n",
      "|Guernsey                                           |475520.0  |\n",
      "|South Georgia and the South Sandwich Islands       |475509.0  |\n",
      "|Saint Martin                                       |475330.0  |\n",
      "|Sao Tome and Principe                              |475165.0  |\n",
      "|Panama                                             |474292.0  |\n",
      "|French Southern Territories                        |474291.0  |\n",
      "|Heard Island and McDonald Islands                  |474275.0  |\n",
      "|Trinidad and Tobago                                |474049.0  |\n",
      "|Norway                                             |473898.0  |\n",
      "|Isle of Man                                        |473833.0  |\n",
      "|Senegal                                            |473739.0  |\n",
      "|Kazakhstan                                         |473531.0  |\n",
      "|Lithuania                                          |473495.0  |\n",
      "|Venezuela                                          |472843.0  |\n",
      "|Botswana                                           |472566.0  |\n",
      "|United Kingdom                                     |470880.0  |\n",
      "|El Salvador                                        |470127.0  |\n",
      "|Timor-Leste                                        |470024.0  |\n",
      "|Denmark                                            |468827.0  |\n",
      "|Pitcairn Islands                                   |468330.0  |\n",
      "|Turkmenistan                                       |467425.0  |\n",
      "|Saint Lucia                                        |467034.0  |\n",
      "|Cote d'Ivoire                                      |466585.0  |\n",
      "|India                                              |466575.0  |\n",
      "|Egypt                                              |465920.0  |\n",
      "|Guinea-Bissau                                      |464907.0  |\n",
      "|Bahrain                                            |464572.0  |\n",
      "|Syrian Arab Republic                               |464516.0  |\n",
      "|British Indian Ocean Territory (Chagos Archipelago)|464202.0  |\n",
      "|Gambia                                             |463076.0  |\n",
      "|Costa Rica                                         |461936.0  |\n",
      "|Iraq                                               |461506.0  |\n",
      "|Maldives                                           |459389.0  |\n",
      "|Montenegro                                         |459082.0  |\n",
      "|Bahamas                                            |458905.0  |\n",
      "|New Zealand                                        |457759.0  |\n",
      "|Saudi Arabia                                       |455484.0  |\n",
      "|Bangladesh                                         |453138.0  |\n",
      "|New Caledonia                                      |449206.0  |\n",
      "|Nicaragua                                          |444442.0  |\n",
      "|Holy See (Vatican City State)                      |444043.0  |\n",
      "|Chile                                              |443791.0  |\n",
      "|Djibouti                                           |443765.0  |\n",
      "|Libyan Arab Jamahiriya                             |440946.0  |\n",
      "|Comoros                                            |440320.0  |\n",
      "+---------------------------------------------------+----------+\n",
      "\n"
     ]
    }
   ],
   "source": [
    "people.groupBy('Birth_Country').agg(max('Income').alias('Max_Income')).orderBy(desc('Max_Income')).show(1000,truncate=False)"
   ]
  },
  {
   "cell_type": "code",
   "execution_count": 13,
   "metadata": {
    "colab": {
     "base_uri": "https://localhost:8080/"
    },
    "id": "Qnj_GecC6nir",
    "outputId": "00f0a9fb-b53c-41db-da1b-75601cc2bab1"
   },
   "outputs": [
    {
     "name": "stdout",
     "output_type": "stream",
     "text": [
      "+---------------------------------------------------+----------+\n",
      "|Birth_Country                                      |Max_Income|\n",
      "+---------------------------------------------------+----------+\n",
      "|Cook Islands                                       |499913.0  |\n",
      "|Uzbekistan                                         |499720.0  |\n",
      "|Greenland                                          |499690.0  |\n",
      "|Cuba                                               |499636.0  |\n",
      "|Albania                                            |499562.0  |\n",
      "|Mauritania                                         |499558.0  |\n",
      "|Oman                                               |499521.0  |\n",
      "|Togo                                               |499370.0  |\n",
      "|Somalia                                            |499294.0  |\n",
      "|San Marino                                         |499238.0  |\n",
      "|Finland                                            |499207.0  |\n",
      "|Belgium                                            |499095.0  |\n",
      "|Peru                                               |499092.0  |\n",
      "|Bermuda                                            |499090.0  |\n",
      "|Italy                                              |498991.0  |\n",
      "|Macedonia                                          |498973.0  |\n",
      "|United Arab Emirates                               |498960.0  |\n",
      "|Turks and Caicos Islands                           |498757.0  |\n",
      "|Taiwan                                             |498746.0  |\n",
      "|Myanmar                                            |498739.0  |\n",
      "|Australia                                          |498604.0  |\n",
      "|French Guiana                                      |498559.0  |\n",
      "|Fiji                                               |498479.0  |\n",
      "|American Samoa                                     |498454.0  |\n",
      "|Paraguay                                           |498440.0  |\n",
      "|South Africa                                       |498297.0  |\n",
      "|Swaziland                                          |498274.0  |\n",
      "|Namibia                                            |498187.0  |\n",
      "|Serbia                                             |498171.0  |\n",
      "|Congo                                              |498121.0  |\n",
      "|Marshall Islands                                   |498106.0  |\n",
      "|Christmas Island                                   |498097.0  |\n",
      "|Seychelles                                         |497855.0  |\n",
      "|United States Virgin Islands                       |497753.0  |\n",
      "|Guyana                                             |497595.0  |\n",
      "|Vanuatu                                            |497580.0  |\n",
      "|Tokelau                                            |497573.0  |\n",
      "|Saint Barthelemy                                   |497523.0  |\n",
      "|Solomon Islands                                    |497522.0  |\n",
      "|Palau                                              |497491.0  |\n",
      "|Argentina                                          |497489.0  |\n",
      "|Kuwait                                             |497352.0  |\n",
      "|Honduras                                           |497344.0  |\n",
      "|Bouvet Island (Bouvetoya)                          |497240.0  |\n",
      "|Haiti                                              |497204.0  |\n",
      "|Dominica                                           |497143.0  |\n",
      "|Brazil                                             |496995.0  |\n",
      "|British Virgin Islands                             |496863.0  |\n",
      "|Tajikistan                                         |496774.0  |\n",
      "|Gibraltar                                          |496748.0  |\n",
      "|Cocos (Keeling) Islands                            |496726.0  |\n",
      "|Cape Verde                                         |496724.0  |\n",
      "|Uruguay                                            |496698.0  |\n",
      "|Antarctica (the territory South of 60 deg S)       |496690.0  |\n",
      "|Macao                                              |496558.0  |\n",
      "|Malta                                              |496548.0  |\n",
      "|Lebanon                                            |496547.0  |\n",
      "|Ethiopia                                           |496492.0  |\n",
      "|Slovenia                                           |496420.0  |\n",
      "|Sweden                                             |496349.0  |\n",
      "|Cameroon                                           |496329.0  |\n",
      "|Kiribati                                           |496146.0  |\n",
      "|Ireland                                            |495813.0  |\n",
      "|Mayotte                                            |495757.0  |\n",
      "|Portugal                                           |495749.0  |\n",
      "|Norfolk Island                                     |495736.0  |\n",
      "|China                                              |495668.0  |\n",
      "|Canada                                             |495667.0  |\n",
      "|Mali                                               |495627.0  |\n",
      "|French Polynesia                                   |495562.0  |\n",
      "|Gabon                                              |495470.0  |\n",
      "|Philippines                                        |495358.0  |\n",
      "|Burkina Faso                                       |495342.0  |\n",
      "|Hungary                                            |495282.0  |\n",
      "|Netherlands                                        |494783.0  |\n",
      "|Bhutan                                             |494718.0  |\n",
      "|Indonesia                                          |494666.0  |\n",
      "|Dominican Republic                                 |494613.0  |\n",
      "|Vietnam                                            |494403.0  |\n",
      "|Luxembourg                                         |494271.0  |\n",
      "|Belarus                                            |494263.0  |\n",
      "|Zambia                                             |494198.0  |\n",
      "|Puerto Rico                                        |494169.0  |\n",
      "|Korea                                              |494133.0  |\n",
      "|Saint Helena                                       |493730.0  |\n",
      "|Jersey                                             |493714.0  |\n",
      "|Romania                                            |493627.0  |\n",
      "|Samoa                                              |493545.0  |\n",
      "|Tonga                                              |493516.0  |\n",
      "|Antigua and Barbuda                                |493390.0  |\n",
      "|Armenia                                            |493371.0  |\n",
      "|Guam                                               |493249.0  |\n",
      "|Colombia                                           |493199.0  |\n",
      "|Malaysia                                           |493159.0  |\n",
      "|Central African Republic                           |493085.0  |\n",
      "|Liechtenstein                                      |492938.0  |\n",
      "|Anguilla                                           |492905.0  |\n",
      "|Russian Federation                                 |492762.0  |\n",
      "|Guadeloupe                                         |492441.0  |\n",
      "|Montserrat                                         |492374.0  |\n",
      "|Barbados                                           |492312.0  |\n",
      "|Mexico                                             |492189.0  |\n",
      "|France                                             |492178.0  |\n",
      "|Singapore                                          |491842.0  |\n",
      "|Azerbaijan                                         |491829.0  |\n",
      "|Yemen                                              |491828.0  |\n",
      "|Suriname                                           |491763.0  |\n",
      "|Saint Vincent and the Grenadines                   |491725.0  |\n",
      "|Cyprus                                             |491641.0  |\n",
      "|Svalbard & Jan Mayen Islands                       |491633.0  |\n",
      "|Moldova                                            |491471.0  |\n",
      "|Jamaica                                            |491453.0  |\n",
      "|Cayman Islands                                     |491063.0  |\n",
      "|Grenada                                            |491016.0  |\n",
      "|Lesotho                                            |490995.0  |\n",
      "|Uganda                                             |490928.0  |\n",
      "|Germany                                            |490762.0  |\n",
      "|Martinique                                         |490739.0  |\n",
      "|Palestinian Territory                              |490689.0  |\n",
      "|Tuvalu                                             |490653.0  |\n",
      "|Czech Republic                                     |490522.0  |\n",
      "|Niger                                              |490257.0  |\n",
      "|Brunei Darussalam                                  |489937.0  |\n",
      "|Thailand                                           |489340.0  |\n",
      "|Burundi                                            |489123.0  |\n",
      "|Ghana                                              |488832.0  |\n",
      "|Greece                                             |488772.0  |\n",
      "|Hong Kong                                          |488762.0  |\n",
      "|Guinea                                             |488650.0  |\n",
      "|Guatemala                                          |488325.0  |\n",
      "|Croatia                                            |488057.0  |\n",
      "|Monaco                                             |488026.0  |\n",
      "|Algeria                                            |487443.0  |\n",
      "|Japan                                              |487422.0  |\n",
      "|Afghanistan                                        |487361.0  |\n",
      "|Qatar                                              |487296.0  |\n",
      "|Netherlands Antilles                               |487034.0  |\n",
      "|Western Sahara                                     |487009.0  |\n",
      "|Sierra Leone                                       |486923.0  |\n",
      "|Niue                                               |486883.0  |\n",
      "|Lao People's Democratic Republic                   |486761.0  |\n",
      "|Estonia                                            |486346.0  |\n",
      "|Equatorial Guinea                                  |486115.0  |\n",
      "|Tanzania                                           |485935.0  |\n",
      "|Northern Mariana Islands                           |485781.0  |\n",
      "|Slovakia (Slovak Republic)                         |485728.0  |\n",
      "|Bolivia                                            |485727.0  |\n",
      "|Spain                                              |485648.0  |\n",
      "|Eritrea                                            |485360.0  |\n",
      "|Mozambique                                         |485224.0  |\n",
      "|Bosnia and Herzegovina                             |485026.0  |\n",
      "|Mauritius                                          |484922.0  |\n",
      "|Papua New Guinea                                   |484669.0  |\n",
      "|Saint Kitts and Nevis                              |484659.0  |\n",
      "|Nauru                                              |484552.0  |\n",
      "|Kenya                                              |484365.0  |\n",
      "|Georgia                                            |484206.0  |\n",
      "|Sudan                                              |484085.0  |\n",
      "|Benin                                              |483980.0  |\n",
      "|Switzerland                                        |483968.0  |\n",
      "|Liberia                                            |483540.0  |\n",
      "|Cambodia                                           |483479.0  |\n",
      "|Kyrgyz Republic                                    |483152.0  |\n",
      "|Pakistan                                           |482964.0  |\n",
      "|United States of America                           |482588.0  |\n",
      "|Iceland                                            |482579.0  |\n",
      "|Tunisia                                            |482464.0  |\n",
      "|United States Minor Outlying Islands               |482409.0  |\n",
      "|Wallis and Futuna                                  |482297.0  |\n",
      "|Austria                                            |481945.0  |\n",
      "|Ukraine                                            |481906.0  |\n",
      "|Chad                                               |481521.0  |\n",
      "|Mongolia                                           |481513.0  |\n",
      "|Ecuador                                            |481446.0  |\n",
      "|Rwanda                                             |481397.0  |\n",
      "|Nigeria                                            |480959.0  |\n",
      "|Reunion                                            |480343.0  |\n",
      "|Turkey                                             |479896.0  |\n",
      "|Jordan                                             |479868.0  |\n",
      "|Latvia                                             |479761.0  |\n",
      "|Saint Pierre and Miquelon                          |479756.0  |\n",
      "|Malawi                                             |479700.0  |\n",
      "|Israel                                             |479494.0  |\n",
      "|Sri Lanka                                          |478998.0  |\n",
      "|Faroe Islands                                      |478706.0  |\n",
      "|Nepal                                              |478262.0  |\n",
      "|Falkland Islands (Malvinas)                        |477917.0  |\n",
      "|Micronesia                                         |477894.0  |\n",
      "|Aruba                                              |477834.0  |\n",
      "|Angola                                             |477436.0  |\n",
      "|Morocco                                            |477362.0  |\n",
      "|Iran                                               |477223.0  |\n",
      "|Poland                                             |477203.0  |\n",
      "|Bulgaria                                           |477141.0  |\n",
      "|Belize                                             |476669.0  |\n",
      "|Madagascar                                         |475842.0  |\n",
      "|Zimbabwe                                           |475803.0  |\n",
      "|Andorra                                            |475695.0  |\n",
      "|Guernsey                                           |475520.0  |\n",
      "|South Georgia and the South Sandwich Islands       |475509.0  |\n",
      "|Saint Martin                                       |475330.0  |\n",
      "|Sao Tome and Principe                              |475165.0  |\n",
      "|Panama                                             |474292.0  |\n",
      "|French Southern Territories                        |474291.0  |\n",
      "|Heard Island and McDonald Islands                  |474275.0  |\n",
      "|Trinidad and Tobago                                |474049.0  |\n",
      "|Norway                                             |473898.0  |\n",
      "|Isle of Man                                        |473833.0  |\n",
      "|Senegal                                            |473739.0  |\n",
      "|Kazakhstan                                         |473531.0  |\n",
      "|Lithuania                                          |473495.0  |\n",
      "|Venezuela                                          |472843.0  |\n",
      "|Botswana                                           |472566.0  |\n",
      "|United Kingdom                                     |470880.0  |\n",
      "|El Salvador                                        |470127.0  |\n",
      "|Timor-Leste                                        |470024.0  |\n",
      "|Denmark                                            |468827.0  |\n",
      "|Pitcairn Islands                                   |468330.0  |\n",
      "|Turkmenistan                                       |467425.0  |\n",
      "|Saint Lucia                                        |467034.0  |\n",
      "|Cote d'Ivoire                                      |466585.0  |\n",
      "|India                                              |466575.0  |\n",
      "|Egypt                                              |465920.0  |\n",
      "|Guinea-Bissau                                      |464907.0  |\n",
      "|Bahrain                                            |464572.0  |\n",
      "|Syrian Arab Republic                               |464516.0  |\n",
      "|British Indian Ocean Territory (Chagos Archipelago)|464202.0  |\n",
      "|Gambia                                             |463076.0  |\n",
      "|Costa Rica                                         |461936.0  |\n",
      "|Iraq                                               |461506.0  |\n",
      "|Maldives                                           |459389.0  |\n",
      "|Montenegro                                         |459082.0  |\n",
      "|Bahamas                                            |458905.0  |\n",
      "|New Zealand                                        |457759.0  |\n",
      "|Saudi Arabia                                       |455484.0  |\n",
      "|Bangladesh                                         |453138.0  |\n",
      "|New Caledonia                                      |449206.0  |\n",
      "|Nicaragua                                          |444442.0  |\n",
      "|Holy See (Vatican City State)                      |444043.0  |\n",
      "|Chile                                              |443791.0  |\n",
      "|Djibouti                                           |443765.0  |\n",
      "|Libyan Arab Jamahiriya                             |440946.0  |\n",
      "|Comoros                                            |440320.0  |\n",
      "+---------------------------------------------------+----------+\n",
      "\n"
     ]
    }
   ],
   "source": [
    "spark.sql(\"SELECT Birth_Country,Max(Income) as Max_Income FROM people_tbl group by 1 order by 2 desc\").show(1000,truncate=False)"
   ]
  },
  {
   "cell_type": "markdown",
   "metadata": {
    "id": "vyrul6MJ6x9u"
   },
   "source": [
    "### Part 3"
   ]
  },
  {
   "cell_type": "code",
   "execution_count": 14,
   "metadata": {
    "colab": {
     "base_uri": "https://localhost:8080/"
    },
    "id": "rdQ7GYHC6qr6",
    "outputId": "a639ee1e-aa0e-43ed-94d6-30bbb02c3401"
   },
   "outputs": [
    {
     "data": {
      "text/plain": [
       "3958"
      ]
     },
     "execution_count": 14,
     "metadata": {},
     "output_type": "execute_result"
    }
   ],
   "source": [
    "people.filter((people.Income>100000) & (people.Loan_Approved)).count()"
   ]
  },
  {
   "cell_type": "code",
   "execution_count": 15,
   "metadata": {
    "colab": {
     "base_uri": "https://localhost:8080/"
    },
    "id": "Dqz7OhEs6445",
    "outputId": "87f34844-f5f2-45e1-c6ca-ed75a548f772"
   },
   "outputs": [
    {
     "name": "stdout",
     "output_type": "stream",
     "text": [
      "+-----+\n",
      "|count|\n",
      "+-----+\n",
      "| 3958|\n",
      "+-----+\n",
      "\n"
     ]
    }
   ],
   "source": [
    "spark.sql(\"SELECT count(*) as count FROM people_tbl where Income>100000 and Loan_Approved=True\").show()"
   ]
  },
  {
   "cell_type": "markdown",
   "metadata": {
    "id": "J-oNF88f6_xR"
   },
   "source": [
    "**3958 people have income > 100,000 with an approved loan.**"
   ]
  },
  {
   "cell_type": "markdown",
   "metadata": {
    "id": "I2B2aX-Z67-B"
   },
   "source": [
    "### Part 4"
   ]
  },
  {
   "cell_type": "code",
   "execution_count": 16,
   "metadata": {
    "colab": {
     "base_uri": "https://localhost:8080/"
    },
    "id": "Pku0cOYO668s",
    "outputId": "15adbe8c-2ebc-4199-d2c9-34d32ba9ae63"
   },
   "outputs": [
    {
     "name": "stdout",
     "output_type": "stream",
     "text": [
      "+----------+--------+--------------------+\n",
      "|First_Name|  Income|                 Job|\n",
      "+----------+--------+--------------------+\n",
      "|    Alyssa|482588.0|Amenity horticult...|\n",
      "|    Hunter|468946.0|Psychologist, pri...|\n",
      "|      Rose|426115.0|Adult guidance wo...|\n",
      "|  Danielle|389810.0|Furniture conserv...|\n",
      "|     Terry|380410.0|       Meteorologist|\n",
      "|     Cindy|370322.0|Research scientis...|\n",
      "|     Scott|368913.0|       Art therapist|\n",
      "|   Christy|355150.0|      Engineer, land|\n",
      "|     Kelly|341448.0|           Press sub|\n",
      "|  Kristina|338804.0|           Herbalist|\n",
      "+----------+--------+--------------------+\n",
      "only showing top 10 rows\n",
      "\n"
     ]
    }
   ],
   "source": [
    "people.filter(people.Birth_Country=='United States of America').orderBy(desc('Income')).select('First_Name','Income','Job').show(10)"
   ]
  },
  {
   "cell_type": "code",
   "execution_count": 27,
   "metadata": {
    "colab": {
     "base_uri": "https://localhost:8080/"
    },
    "id": "klZRiOYG7IJN",
    "outputId": "811bd081-8b12-4577-87f0-c73058a1356b"
   },
   "outputs": [
    {
     "name": "stdout",
     "output_type": "stream",
     "text": [
      "+----------+--------+--------------------+\n",
      "|First_name|  Income|                 Job|\n",
      "+----------+--------+--------------------+\n",
      "|    Alyssa|482588.0|Amenity horticult...|\n",
      "|    Hunter|468946.0|Psychologist, pri...|\n",
      "|      Rose|426115.0|Adult guidance wo...|\n",
      "|  Danielle|389810.0|Furniture conserv...|\n",
      "|     Terry|380410.0|       Meteorologist|\n",
      "|     Cindy|370322.0|Research scientis...|\n",
      "|     Scott|368913.0|       Art therapist|\n",
      "|   Christy|355150.0|      Engineer, land|\n",
      "|     Kelly|341448.0|           Press sub|\n",
      "|  Kristina|338804.0|           Herbalist|\n",
      "+----------+--------+--------------------+\n",
      "\n"
     ]
    }
   ],
   "source": [
    "spark.sql(\"SELECT First_name,Income,Job FROM people_tbl where Birth_Country='United States of America' order by 2 desc limit 10\").show()"
   ]
  },
  {
   "cell_type": "markdown",
   "metadata": {
    "id": "W9IV0Rqy7NPh"
   },
   "source": [
    "### Part 5"
   ]
  },
  {
   "cell_type": "code",
   "execution_count": 18,
   "metadata": {
    "colab": {
     "base_uri": "https://localhost:8080/"
    },
    "id": "5euy8yev7Kvy",
    "outputId": "efcd1384-32e2-43d7-a6fe-ef5bbadcc119"
   },
   "outputs": [
    {
     "data": {
      "text/plain": [
       "639"
      ]
     },
     "execution_count": 18,
     "metadata": {},
     "output_type": "execute_result"
    }
   ],
   "source": [
    "people.groupBy('Job').count().count()"
   ]
  },
  {
   "cell_type": "code",
   "execution_count": 19,
   "metadata": {
    "colab": {
     "base_uri": "https://localhost:8080/"
    },
    "id": "hP7ZTr2H7U2k",
    "outputId": "1e570097-12b5-4d56-f3a0-2b554190d3c4"
   },
   "outputs": [
    {
     "name": "stdout",
     "output_type": "stream",
     "text": [
      "+-------------------+\n",
      "|count_distinct_jobs|\n",
      "+-------------------+\n",
      "|                639|\n",
      "+-------------------+\n",
      "\n"
     ]
    }
   ],
   "source": [
    "spark.sql(\"SELECT count (distinct Job) as count_distinct_jobs FROM people_tbl\").show()"
   ]
  },
  {
   "cell_type": "markdown",
   "metadata": {
    "id": "NGCqSggT7w6L"
   },
   "source": [
    "### Part 6"
   ]
  },
  {
   "cell_type": "code",
   "execution_count": 20,
   "metadata": {
    "colab": {
     "base_uri": "https://localhost:8080/"
    },
    "id": "e7_avhnd7u_D",
    "outputId": "419527c0-afce-48d8-f88c-933c923a2517"
   },
   "outputs": [
    {
     "data": {
      "text/plain": [
       "5"
      ]
     },
     "execution_count": 20,
     "metadata": {},
     "output_type": "execute_result"
    }
   ],
   "source": [
    "people.filter((people.Job=='Writer') & (people.Income<100000) ).count()"
   ]
  },
  {
   "cell_type": "code",
   "execution_count": 21,
   "metadata": {
    "colab": {
     "base_uri": "https://localhost:8080/"
    },
    "id": "yw8D4Hr_73Y0",
    "outputId": "cb1f9da4-8aeb-4ec0-9a01-536c5be6a532"
   },
   "outputs": [
    {
     "name": "stdout",
     "output_type": "stream",
     "text": [
      "+--------------------+\n",
      "|count_writer_lt_100k|\n",
      "+--------------------+\n",
      "|                   5|\n",
      "+--------------------+\n",
      "\n"
     ]
    }
   ],
   "source": [
    "spark.sql(\"SELECT count(*) as count_writer_lt_100k FROM people_tbl where job='Writer' and Income<100000\").show()"
   ]
  },
  {
   "cell_type": "markdown",
   "metadata": {
    "id": "uFrYKVdm7-0H"
   },
   "source": [
    "### Part 7"
   ]
  },
  {
   "cell_type": "code",
   "execution_count": 22,
   "metadata": {
    "colab": {
     "base_uri": "https://localhost:8080/"
    },
    "id": "Afpewvx577Cm",
    "outputId": "e34b1e4b-7777-41b5-c8a8-4685de24e159"
   },
   "outputs": [
    {
     "name": "stdout",
     "output_type": "stream",
     "text": [
      "+--------------------+-----+\n",
      "|       Birth_Country|count|\n",
      "+--------------------+-----+\n",
      "|             Algeria|    2|\n",
      "|       Faroe Islands|    2|\n",
      "|United States Min...|    2|\n",
      "|              Malawi|    1|\n",
      "|                Fiji|    1|\n",
      "+--------------------+-----+\n",
      "only showing top 5 rows\n",
      "\n"
     ]
    }
   ],
   "source": [
    "people.filter(((people.First_Name == 'Stephen') | (people.First_Name == 'Alexandra')) & (people.Income>200000)).groupBy('Birth_Country').agg(count('Birth_Country').alias('count')).orderBy(desc('count')).show(5)"
   ]
  },
  {
   "cell_type": "code",
   "execution_count": 23,
   "metadata": {
    "colab": {
     "base_uri": "https://localhost:8080/"
    },
    "id": "7gdV2Qzk8G0y",
    "outputId": "8b266560-7a1a-42ae-8c7a-62f288f8bd0e"
   },
   "outputs": [
    {
     "name": "stdout",
     "output_type": "stream",
     "text": [
      "+--------------------+-----+\n",
      "|       Birth_Country|count|\n",
      "+--------------------+-----+\n",
      "|             Algeria|    2|\n",
      "|       Faroe Islands|    2|\n",
      "|United States Min...|    2|\n",
      "|             Tokelau|    1|\n",
      "|         Philippines|    1|\n",
      "+--------------------+-----+\n",
      "\n"
     ]
    }
   ],
   "source": [
    "spark.sql(\"SELECT Birth_Country,count(*) as count FROM people_tbl where First_Name in ('Alexandra','Stephen') and Income>200000 group by 1 order by 2 desc limit 5\").show()"
   ]
  },
  {
   "cell_type": "markdown",
   "metadata": {
    "id": "IUwLYyR48R21"
   },
   "source": [
    "### Part 8"
   ]
  },
  {
   "cell_type": "code",
   "execution_count": 24,
   "metadata": {
    "colab": {
     "base_uri": "https://localhost:8080/"
    },
    "id": "C0RUX09-8PIs",
    "outputId": "61b71a62-2847-4ef3-f353-8139b4034115"
   },
   "outputs": [
    {
     "name": "stdout",
     "output_type": "stream",
     "text": [
      "+-----------+\n",
      "|        SSN|\n",
      "+-----------+\n",
      "|879-74-5521|\n",
      "+-----------+\n",
      "\n"
     ]
    }
   ],
   "source": [
    "people.groupBy(\"SSN\").count().filter(\"count > 1\").select(\"SSN\").show()"
   ]
  },
  {
   "cell_type": "code",
   "execution_count": 25,
   "metadata": {
    "colab": {
     "base_uri": "https://localhost:8080/"
    },
    "id": "Hvz31Tt48mBW",
    "outputId": "5cb997ce-4d90-40fa-819b-2385483736e7"
   },
   "outputs": [
    {
     "name": "stdout",
     "output_type": "stream",
     "text": [
      "+----+---------------+--------------------+----------+--------+--------------------+---------+-------------+-----------+\n",
      "| _c0|  Birth_Country|               Email|First_Name|  Income|                 Job|Last_name|Loan_Approved|        SSN|\n",
      "+----+---------------+--------------------+----------+--------+--------------------+---------+-------------+-----------+\n",
      "|3249|          Qatar|christine35@shaw.com|     Kathy|319962.0|    Textile designer|    Hicks|         true|879-74-5521|\n",
      "|3378|Kyrgyz Republic|stantontina@mcgee...|    Carrie|277542.0|Therapist, hortic...|  Lambert|        false|879-74-5521|\n",
      "+----+---------------+--------------------+----------+--------+--------------------+---------+-------------+-----------+\n",
      "\n"
     ]
    }
   ],
   "source": [
    "people.filter((people.SSN==\"879-74-5521\")).show()"
   ]
  },
  {
   "cell_type": "code",
   "execution_count": 28,
   "metadata": {
    "colab": {
     "base_uri": "https://localhost:8080/",
     "height": 35
    },
    "id": "SZ1hs0uo9KgQ",
    "outputId": "516ae0ef-bbf1-4ea9-eae2-ce2cc012756c"
   },
   "outputs": [
    {
     "data": {
      "application/vnd.google.colaboratory.intrinsic+json": {
       "type": "string"
      },
      "text/plain": [
       "'879-74-5521'"
      ]
     },
     "execution_count": 28,
     "metadata": {},
     "output_type": "execute_result"
    }
   ],
   "source": [
    "people.groupBy(\"SSN\").count().filter(\"count > 1\").select(\"SSN\").collect()[0][0]"
   ]
  },
  {
   "cell_type": "code",
   "execution_count": 26,
   "metadata": {
    "colab": {
     "base_uri": "https://localhost:8080/"
    },
    "id": "0FU3EU7_8oP5",
    "outputId": "e27c4dea-39c7-4455-fc20-a64530a83e08"
   },
   "outputs": [
    {
     "name": "stdout",
     "output_type": "stream",
     "text": [
      "+-----------+-----+\n",
      "|        SSN|count|\n",
      "+-----------+-----+\n",
      "|879-74-5521|    2|\n",
      "+-----------+-----+\n",
      "\n"
     ]
    }
   ],
   "source": [
    "spark.sql(\"SELECT SSN,count(*) as count FROM people_tbl group by 1 having count(*)>1\").show()"
   ]
  },
  {
   "cell_type": "code",
   "execution_count": 29,
   "metadata": {
    "colab": {
     "base_uri": "https://localhost:8080/"
    },
    "id": "rrbd9Uq38s8k",
    "outputId": "5af75a2c-edb1-4e23-cda6-f39d36ef4682"
   },
   "outputs": [
    {
     "name": "stdout",
     "output_type": "stream",
     "text": [
      "+----+---------------+--------------------+----------+--------+--------------------+---------+-------------+-----------+\n",
      "| _c0|  Birth_Country|               Email|First_Name|  Income|                 Job|Last_name|Loan_Approved|        SSN|\n",
      "+----+---------------+--------------------+----------+--------+--------------------+---------+-------------+-----------+\n",
      "|3249|          Qatar|christine35@shaw.com|     Kathy|319962.0|    Textile designer|    Hicks|         true|879-74-5521|\n",
      "|3378|Kyrgyz Republic|stantontina@mcgee...|    Carrie|277542.0|Therapist, hortic...|  Lambert|        false|879-74-5521|\n",
      "+----+---------------+--------------------+----------+--------+--------------------+---------+-------------+-----------+\n",
      "\n"
     ]
    }
   ],
   "source": [
    "spark.sql(\"SELECT * from people_tbl where SSN = '879-74-5521'\").show()"
   ]
  },
  {
   "cell_type": "code",
   "execution_count": 30,
   "metadata": {
    "colab": {
     "base_uri": "https://localhost:8080/",
     "height": 35
    },
    "id": "a-bmMcxu9SXf",
    "outputId": "d5f96e20-2921-4cf2-91b9-f401283e6af7"
   },
   "outputs": [
    {
     "data": {
      "application/vnd.google.colaboratory.intrinsic+json": {
       "type": "string"
      },
      "text/plain": [
       "'879-74-5521'"
      ]
     },
     "execution_count": 30,
     "metadata": {},
     "output_type": "execute_result"
    }
   ],
   "source": [
    "spark.sql(\"SELECT SSN from (SELECT SSN,count(*) as count FROM people_tbl group by 1 having count(*)>1)\").collect()[0][0]"
   ]
  }
 ],
 "metadata": {
  "colab": {
   "provenance": []
  },
  "kernelspec": {
   "display_name": "Python 3",
   "language": "python",
   "name": "python3"
  },
  "language_info": {
   "codemirror_mode": {
    "name": "ipython",
    "version": 3
   },
   "file_extension": ".py",
   "mimetype": "text/x-python",
   "name": "python",
   "nbconvert_exporter": "python",
   "pygments_lexer": "ipython3",
   "version": "3.8.8"
  }
 },
 "nbformat": 4,
 "nbformat_minor": 1
}
